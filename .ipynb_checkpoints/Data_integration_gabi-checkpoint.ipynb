{
 "cells": [
  {
   "cell_type": "code",
   "execution_count": 90,
   "metadata": {},
   "outputs": [],
   "source": [
    "import pandas as pd\n",
    "import numpy as np\n",
    "import matplotlib.pyplot as plt\n",
    "import seaborn as sns\n",
    "import os"
   ]
  },
  {
   "cell_type": "code",
   "execution_count": 103,
   "metadata": {},
   "outputs": [
    {
     "name": "stderr",
     "output_type": "stream",
     "text": [
      "/home/gabriela/.local/lib/python3.5/site-packages/IPython/core/interactiveshell.py:2785: DtypeWarning: Columns (4,6,24,25,26,27,35,38,40,41,42,43,44,45,46,47,48,49,50,51,52) have mixed types. Specify dtype option on import or set low_memory=False.\n",
      "  interactivity=interactivity, compiler=compiler, result=result)\n"
     ]
    }
   ],
   "source": [
    "df1 = pd.read_csv('data_ejep/propostas/arquivo_final.csv')\n",
    "df2 = pd.read_csv('data_ejep/precificacao/df_2013_clean.csv', encoding='ISO-8859-1')\n",
    "df3 = pd.read_csv('data_ejep/precificacao/df_2014_5_6.csv', encoding='ISO-8859-1')\n",
    "df4 = pd.read_csv('data_ejep/precificacao/df_2017_8.csv', encoding='ISO-8859-1')\n",
    "df5 = pd.read_csv('data_ejep/membros/all_members.csv', encoding='UTF-8')\n",
    "df6 = pd.read_csv('data_ejep/propostas/arquivo_final1.csv')"
   ]
  },
  {
   "cell_type": "code",
   "execution_count": 72,
   "metadata": {},
   "outputs": [
    {
     "data": {
      "text/plain": [
       "<matplotlib.axes._subplots.AxesSubplot at 0x7f31772c2e80>"
      ]
     },
     "execution_count": 72,
     "metadata": {},
     "output_type": "execute_result"
    },
    {
     "data": {
      "image/png": "[encoded data removed]",
      "text/plain": [
       "<Figure size 432x288 with 1 Axes>"
      ]
     },
     "metadata": {},
     "output_type": "display_data"
    }
   ],
   "source": [
    "figsize=(10,30)\n",
    "sns.heatmap(df1.isnull(), yticklabels = False, cbar = False, cmap='viridis')"
   ]
  },
  {
   "cell_type": "code",
   "execution_count": 104,
   "metadata": {},
   "outputs": [
    {
     "data": {
      "text/plain": [
       "(119555, 53)"
      ]
     },
     "execution_count": 104,
     "metadata": {},
     "output_type": "execute_result"
    }
   ],
   "source": [
    "df1.shape"
   ]
  },
  {
   "cell_type": "code",
   "execution_count": 105,
   "metadata": {},
   "outputs": [],
   "source": [
    "def getdir_gabi(path):\n",
    "    try: \n",
    "        paths = []\n",
    "        direc = path\n",
    "        while direc != '':\n",
    "            direc = os.path.split(path)[0]\n",
    "            #print(direc)\n",
    "            direc2 = os.path.split(path)[1]\n",
    "            print(direc2)\n",
    "            paths.append(direc2)\n",
    "            path = direc\n",
    "    except:\n",
    "            return np.nan\n",
    "    return paths"
   ]
  },
  {
   "cell_type": "code",
   "execution_count": 106,
   "metadata": {},
   "outputs": [],
   "source": [
    "def getdir2_gabi(path):\n",
    "    try: \n",
    "        paths = path.split(\"\\\\\")\n",
    "        return paths[3]\n",
    "    except:\n",
    "        return np.nan"
   ]
  },
  {
   "cell_type": "code",
   "execution_count": 107,
   "metadata": {},
   "outputs": [],
   "source": [
    "def getdir2_shin(path):\n",
    "    try: \n",
    "        paths = path.split(\"\\\\\")\n",
    "        return paths[2]\n",
    "    except:\n",
    "        return np.nan"
   ]
  },
  {
   "cell_type": "code",
   "execution_count": 108,
   "metadata": {},
   "outputs": [],
   "source": [
    "df1[\"apelido_path\"] = df1[\"path\"].apply(getdir2_gabi)"
   ]
  },
  {
   "cell_type": "code",
   "execution_count": 120,
   "metadata": {},
   "outputs": [
    {
     "ename": "AttributeError",
     "evalue": "'DataFrame' object has no attribute 'value_counts'",
     "output_type": "error",
     "traceback": [
      "\u001b[0;31m---------------------------------------------------------------------------\u001b[0m",
      "\u001b[0;31mAttributeError\u001b[0m                            Traceback (most recent call last)",
      "\u001b[0;32m<ipython-input-120-e01e0c66b54e>\u001b[0m in \u001b[0;36m<module>\u001b[0;34m()\u001b[0m\n\u001b[0;32m----> 1\u001b[0;31m \u001b[0mapelidos\u001b[0m \u001b[0;34m=\u001b[0m \u001b[0mdf1\u001b[0m\u001b[0;34m.\u001b[0m\u001b[0mvalue_counts\u001b[0m\u001b[0;34m(\u001b[0m\u001b[0;34m)\u001b[0m\u001b[0;34m.\u001b[0m\u001b[0mindex\u001b[0m\u001b[0;34m\u001b[0m\u001b[0m\n\u001b[0m",
      "\u001b[0;32m/usr/local/lib/python3.5/dist-packages/pandas/core/generic.py\u001b[0m in \u001b[0;36m__getattr__\u001b[0;34m(self, name)\u001b[0m\n\u001b[1;32m   4374\u001b[0m             \u001b[0;32mif\u001b[0m \u001b[0mself\u001b[0m\u001b[0;34m.\u001b[0m\u001b[0m_info_axis\u001b[0m\u001b[0;34m.\u001b[0m\u001b[0m_can_hold_identifiers_and_holds_name\u001b[0m\u001b[0;34m(\u001b[0m\u001b[0mname\u001b[0m\u001b[0;34m)\u001b[0m\u001b[0;34m:\u001b[0m\u001b[0;34m\u001b[0m\u001b[0m\n\u001b[1;32m   4375\u001b[0m                 \u001b[0;32mreturn\u001b[0m \u001b[0mself\u001b[0m\u001b[0;34m[\u001b[0m\u001b[0mname\u001b[0m\u001b[0;34m]\u001b[0m\u001b[0;34m\u001b[0m\u001b[0m\n\u001b[0;32m-> 4376\u001b[0;31m             \u001b[0;32mreturn\u001b[0m \u001b[0mobject\u001b[0m\u001b[0;34m.\u001b[0m\u001b[0m__getattribute__\u001b[0m\u001b[0;34m(\u001b[0m\u001b[0mself\u001b[0m\u001b[0;34m,\u001b[0m \u001b[0mname\u001b[0m\u001b[0;34m)\u001b[0m\u001b[0;34m\u001b[0m\u001b[0m\n\u001b[0m\u001b[1;32m   4377\u001b[0m \u001b[0;34m\u001b[0m\u001b[0m\n\u001b[1;32m   4378\u001b[0m     \u001b[0;32mdef\u001b[0m \u001b[0m__setattr__\u001b[0m\u001b[0;34m(\u001b[0m\u001b[0mself\u001b[0m\u001b[0;34m,\u001b[0m \u001b[0mname\u001b[0m\u001b[0;34m,\u001b[0m \u001b[0mvalue\u001b[0m\u001b[0;34m)\u001b[0m\u001b[0;34m:\u001b[0m\u001b[0;34m\u001b[0m\u001b[0m\n",
      "\u001b[0;31mAttributeError\u001b[0m: 'DataFrame' object has no attribute 'value_counts'"
     ]
    }
   ],
   "source": [
    "apelidos = df1.value_counts().index"
   ]
  },
  {
   "cell_type": "code",
   "execution_count": 114,
   "metadata": {},
   "outputs": [
    {
     "data": {
      "text/plain": [
       "Creme I - MFV e TRF                        2\n",
       "Pilates - SAG e PCP                        1\n",
       "Calha - Layout                             1\n",
       "Compras II - PE, MP e Sistema de Custos    1\n",
       "Christmas - MP e PCP                       1\n",
       "Boat I - Gestão de Rotina                  1\n",
       "Cerâmica - PCP                             1\n",
       "Destruction - Lean Construction            1\n",
       "Chuva - Qualidade                          1\n",
       "Beta - 5S                                  1\n",
       "Circuito - MTM                             1\n",
       "Glass - 5S                                 1\n",
       "Bobina - TRF                               1\n",
       "Labor -  PE Não apresentado                1\n",
       "Construção V - MP                          1\n",
       "Fontes - MP                                1\n",
       "Churrasco - PE                             1\n",
       "Comunicação VI - MFV                       1\n",
       "Comunicação V                              1\n",
       "Camaleão - 5s e MP                         1\n",
       "Name: apelido_path, dtype: int64"
      ]
     },
     "execution_count": 114,
     "metadata": {},
     "output_type": "execute_result"
    }
   ],
   "source": [
    "df2.apelido_path.value_counts()"
   ]
  },
  {
   "cell_type": "code",
   "execution_count": 110,
   "metadata": {},
   "outputs": [],
   "source": [
    "df2[\"apelido_path\"] = df2.Path.apply(getdir2_shin)\n",
    "df3[\"apelido_path\"] = df3.Path.apply(getdir2_shin)\n",
    "df4[\"apelido_path\"] = df4.Path.apply(getdir2_shin)"
   ]
  },
  {
   "cell_type": "code",
   "execution_count": 111,
   "metadata": {},
   "outputs": [],
   "source": [
    "df1 = df1.set_index(\"apelido_path\").join(df2.set_index(\"apelido_path\"), lsuffix = \"_df1\", rsuffix = \"_df2\", how = \"inner\")\n",
    "df1 = df1.reset_index()\n",
    "df1 = df1.set_index(\"apelido_path\").join(df3.set_index(\"apelido_path\"), lsuffix = \"_df1\", rsuffix = \"_df3\", how = \"inner\")\n",
    "df1 = df1.reset_index()\n",
    "df1 = df1.set_index(\"apelido_path\").join(df4.set_index(\"apelido_path\"), lsuffix = \"_df1\", rsuffix = \"_df4\" , how =\"inner\")\n",
    "df1 = df1.reset_index()"
   ]
  },
  {
   "cell_type": "code",
   "execution_count": 112,
   "metadata": {},
   "outputs": [
    {
     "name": "stdout",
     "output_type": "stream",
     "text": [
      "<class 'pandas.core.frame.DataFrame'>\n",
      "RangeIndex: 0 entries\n",
      "Columns: 115 entries, apelido_path to Nome_completo\n",
      "dtypes: float64(45), int64(6), object(64)\n",
      "memory usage: 76.0+ bytes\n"
     ]
    }
   ],
   "source": [
    "df1.info()"
   ]
  },
  {
   "cell_type": "code",
   "execution_count": null,
   "metadata": {},
   "outputs": [],
   "source": []
  }
 ],
 "metadata": {
  "kernelspec": {
   "display_name": "Python 3",
   "language": "python",
   "name": "python3"
  },
  "language_info": {
   "codemirror_mode": {
    "name": "ipython",
    "version": 3
   },
   "file_extension": ".py",
   "mimetype": "text/x-python",
   "name": "python",
   "nbconvert_exporter": "python",
   "pygments_lexer": "ipython3",
   "version": "3.5.2"
  }
 },
 "nbformat": 4,
 "nbformat_minor": 2
}
