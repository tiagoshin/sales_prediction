{
 "cells": [
  {
   "cell_type": "code",
   "execution_count": 105,
   "metadata": {},
   "outputs": [],
   "source": [
    "import pandas as pd\n",
    "import numpy as np\n",
    "import matplotlib.pyplot as plt\n",
    "import seaborn as sns\n",
    "import os\n",
    "from datetime import datetime\n",
    "from dateutil.parser import parse\n",
    "pd.options.display.max_columns = 130"
   ]
  },
  {
   "cell_type": "code",
   "execution_count": 106,
   "metadata": {},
   "outputs": [
    {
     "name": "stderr",
     "output_type": "stream",
     "text": [
      "/usr/local/lib/python3.5/dist-packages/IPython/core/interactiveshell.py:2785: DtypeWarning: Columns (4,6,24,25,26,27,35,38,40,41,42,43,44,45,46,47,48,49,50,51,52) have mixed types. Specify dtype option on import or set low_memory=False.\n",
      "  interactivity=interactivity, compiler=compiler, result=result)\n"
     ]
    }
   ],
   "source": [
    "df1 = pd.read_csv('data_ejep/propostas/arquivo_final.csv')\n",
    "df2 = pd.read_csv('data_ejep/precificacao/df_2013_clean.csv', encoding='ISO-8859-1')\n",
    "df3 = pd.read_csv('data_ejep/precificacao/df_2014_5_6.csv', encoding='ISO-8859-1')\n",
    "df4 = pd.read_csv('data_ejep/precificacao/df_2017_8.csv', encoding='ISO-8859-1')\n",
    "df5 = pd.read_csv('data_ejep/membros/all_members.csv', encoding='UTF-8')\n",
    "df6 = pd.read_csv('data_ejep/propostas/arquivo_final1.csv')"
   ]
  },
  {
   "cell_type": "markdown",
   "metadata": {},
   "source": [
    "### Tratando precificação 2017/2018"
   ]
  },
  {
   "cell_type": "code",
   "execution_count": 107,
   "metadata": {},
   "outputs": [],
   "source": [
    "dates = df4['data'].astype(np.int64)\n",
    "dates = dates.apply(lambda x: pd.datetime.fromordinal(datetime(1900, 1, 1).toordinal() + x - 2))\n",
    "df4['data'] = dates"
   ]
  },
  {
   "cell_type": "code",
   "execution_count": 108,
   "metadata": {},
   "outputs": [],
   "source": [
    "df4['Ano'] = df4['data'].astype(str).apply(lambda x: datetime.strptime(x, '%Y-%m-%d').year)\n",
    "df4['Mes'] = df4['data'].astype(str).apply(lambda x: datetime.strptime(x, '%Y-%m-%d').month)\n",
    "df4['Sem'] = df4['Mes'].apply(lambda x: 1 if x<7 else 7)"
   ]
  },
  {
   "cell_type": "code",
   "execution_count": null,
   "metadata": {},
   "outputs": [],
   "source": [
    "df5 = df5.rename(columns={'Nome completo':'Nome_completo'})\n",
    "df5['Ano'] = df5['date_now'].astype(str).apply(lambda x: datetime.strptime(x, '%Y-%m-%d').year)\n",
    "df5['Mes'] = df5['date_now'].astype(str).apply(lambda x: datetime.strptime(x, '%Y-%m-%d').month)"
   ]
  },
  {
   "cell_type": "code",
   "execution_count": 138,
   "metadata": {},
   "outputs": [
    {
     "ename": "KeyError",
     "evalue": "\"['Unnamed: 0'] not found in axis\"",
     "output_type": "error",
     "traceback": [
      "\u001b[0;31m---------------------------------------------------------------------------\u001b[0m",
      "\u001b[0;31mKeyError\u001b[0m                                  Traceback (most recent call last)",
      "\u001b[0;32m<ipython-input-138-71f1df719039>\u001b[0m in \u001b[0;36m<module>\u001b[0;34m()\u001b[0m\n\u001b[0;32m----> 1\u001b[0;31m \u001b[0mdf2\u001b[0m \u001b[0;34m=\u001b[0m \u001b[0mdf2\u001b[0m\u001b[0;34m.\u001b[0m\u001b[0mdrop\u001b[0m\u001b[0;34m(\u001b[0m\u001b[0;34m'Unnamed: 0'\u001b[0m\u001b[0;34m,\u001b[0m \u001b[0maxis\u001b[0m\u001b[0;34m=\u001b[0m\u001b[0;36m1\u001b[0m \u001b[0;34m)\u001b[0m\u001b[0;34m\u001b[0m\u001b[0m\n\u001b[0m\u001b[1;32m      2\u001b[0m \u001b[0mdf3\u001b[0m \u001b[0;34m=\u001b[0m \u001b[0mdf3\u001b[0m\u001b[0;34m.\u001b[0m\u001b[0mdrop\u001b[0m\u001b[0;34m(\u001b[0m\u001b[0;34m'Unnamed: 0'\u001b[0m\u001b[0;34m,\u001b[0m \u001b[0maxis\u001b[0m\u001b[0;34m=\u001b[0m\u001b[0;36m1\u001b[0m \u001b[0;34m)\u001b[0m\u001b[0;34m\u001b[0m\u001b[0m\n",
      "\u001b[0;32m~/.local/lib/python3.5/site-packages/pandas/core/frame.py\u001b[0m in \u001b[0;36mdrop\u001b[0;34m(self, labels, axis, index, columns, level, inplace, errors)\u001b[0m\n\u001b[1;32m   3695\u001b[0m                                            \u001b[0mindex\u001b[0m\u001b[0;34m=\u001b[0m\u001b[0mindex\u001b[0m\u001b[0;34m,\u001b[0m \u001b[0mcolumns\u001b[0m\u001b[0;34m=\u001b[0m\u001b[0mcolumns\u001b[0m\u001b[0;34m,\u001b[0m\u001b[0;34m\u001b[0m\u001b[0m\n\u001b[1;32m   3696\u001b[0m                                            \u001b[0mlevel\u001b[0m\u001b[0;34m=\u001b[0m\u001b[0mlevel\u001b[0m\u001b[0;34m,\u001b[0m \u001b[0minplace\u001b[0m\u001b[0;34m=\u001b[0m\u001b[0minplace\u001b[0m\u001b[0;34m,\u001b[0m\u001b[0;34m\u001b[0m\u001b[0m\n\u001b[0;32m-> 3697\u001b[0;31m                                            errors=errors)\n\u001b[0m\u001b[1;32m   3698\u001b[0m \u001b[0;34m\u001b[0m\u001b[0m\n\u001b[1;32m   3699\u001b[0m     @rewrite_axis_style_signature('mapper', [('copy', True),\n",
      "\u001b[0;32m~/.local/lib/python3.5/site-packages/pandas/core/generic.py\u001b[0m in \u001b[0;36mdrop\u001b[0;34m(self, labels, axis, index, columns, level, inplace, errors)\u001b[0m\n\u001b[1;32m   3109\u001b[0m         \u001b[0;32mfor\u001b[0m \u001b[0maxis\u001b[0m\u001b[0;34m,\u001b[0m \u001b[0mlabels\u001b[0m \u001b[0;32min\u001b[0m \u001b[0maxes\u001b[0m\u001b[0;34m.\u001b[0m\u001b[0mitems\u001b[0m\u001b[0;34m(\u001b[0m\u001b[0;34m)\u001b[0m\u001b[0;34m:\u001b[0m\u001b[0;34m\u001b[0m\u001b[0m\n\u001b[1;32m   3110\u001b[0m             \u001b[0;32mif\u001b[0m \u001b[0mlabels\u001b[0m \u001b[0;32mis\u001b[0m \u001b[0;32mnot\u001b[0m \u001b[0;32mNone\u001b[0m\u001b[0;34m:\u001b[0m\u001b[0;34m\u001b[0m\u001b[0m\n\u001b[0;32m-> 3111\u001b[0;31m                 \u001b[0mobj\u001b[0m \u001b[0;34m=\u001b[0m \u001b[0mobj\u001b[0m\u001b[0;34m.\u001b[0m\u001b[0m_drop_axis\u001b[0m\u001b[0;34m(\u001b[0m\u001b[0mlabels\u001b[0m\u001b[0;34m,\u001b[0m \u001b[0maxis\u001b[0m\u001b[0;34m,\u001b[0m \u001b[0mlevel\u001b[0m\u001b[0;34m=\u001b[0m\u001b[0mlevel\u001b[0m\u001b[0;34m,\u001b[0m \u001b[0merrors\u001b[0m\u001b[0;34m=\u001b[0m\u001b[0merrors\u001b[0m\u001b[0;34m)\u001b[0m\u001b[0;34m\u001b[0m\u001b[0m\n\u001b[0m\u001b[1;32m   3112\u001b[0m \u001b[0;34m\u001b[0m\u001b[0m\n\u001b[1;32m   3113\u001b[0m         \u001b[0;32mif\u001b[0m \u001b[0minplace\u001b[0m\u001b[0;34m:\u001b[0m\u001b[0;34m\u001b[0m\u001b[0m\n",
      "\u001b[0;32m~/.local/lib/python3.5/site-packages/pandas/core/generic.py\u001b[0m in \u001b[0;36m_drop_axis\u001b[0;34m(self, labels, axis, level, errors)\u001b[0m\n\u001b[1;32m   3141\u001b[0m                 \u001b[0mnew_axis\u001b[0m \u001b[0;34m=\u001b[0m \u001b[0maxis\u001b[0m\u001b[0;34m.\u001b[0m\u001b[0mdrop\u001b[0m\u001b[0;34m(\u001b[0m\u001b[0mlabels\u001b[0m\u001b[0;34m,\u001b[0m \u001b[0mlevel\u001b[0m\u001b[0;34m=\u001b[0m\u001b[0mlevel\u001b[0m\u001b[0;34m,\u001b[0m \u001b[0merrors\u001b[0m\u001b[0;34m=\u001b[0m\u001b[0merrors\u001b[0m\u001b[0;34m)\u001b[0m\u001b[0;34m\u001b[0m\u001b[0m\n\u001b[1;32m   3142\u001b[0m             \u001b[0;32melse\u001b[0m\u001b[0;34m:\u001b[0m\u001b[0;34m\u001b[0m\u001b[0m\n\u001b[0;32m-> 3143\u001b[0;31m                 \u001b[0mnew_axis\u001b[0m \u001b[0;34m=\u001b[0m \u001b[0maxis\u001b[0m\u001b[0;34m.\u001b[0m\u001b[0mdrop\u001b[0m\u001b[0;34m(\u001b[0m\u001b[0mlabels\u001b[0m\u001b[0;34m,\u001b[0m \u001b[0merrors\u001b[0m\u001b[0;34m=\u001b[0m\u001b[0merrors\u001b[0m\u001b[0;34m)\u001b[0m\u001b[0;34m\u001b[0m\u001b[0m\n\u001b[0m\u001b[1;32m   3144\u001b[0m             \u001b[0mresult\u001b[0m \u001b[0;34m=\u001b[0m \u001b[0mself\u001b[0m\u001b[0;34m.\u001b[0m\u001b[0mreindex\u001b[0m\u001b[0;34m(\u001b[0m\u001b[0;34m**\u001b[0m\u001b[0;34m{\u001b[0m\u001b[0maxis_name\u001b[0m\u001b[0;34m:\u001b[0m \u001b[0mnew_axis\u001b[0m\u001b[0;34m}\u001b[0m\u001b[0;34m)\u001b[0m\u001b[0;34m\u001b[0m\u001b[0m\n\u001b[1;32m   3145\u001b[0m \u001b[0;34m\u001b[0m\u001b[0m\n",
      "\u001b[0;32m~/.local/lib/python3.5/site-packages/pandas/core/indexes/base.py\u001b[0m in \u001b[0;36mdrop\u001b[0;34m(self, labels, errors)\u001b[0m\n\u001b[1;32m   4402\u001b[0m             \u001b[0;32mif\u001b[0m \u001b[0merrors\u001b[0m \u001b[0;34m!=\u001b[0m \u001b[0;34m'ignore'\u001b[0m\u001b[0;34m:\u001b[0m\u001b[0;34m\u001b[0m\u001b[0m\n\u001b[1;32m   4403\u001b[0m                 raise KeyError(\n\u001b[0;32m-> 4404\u001b[0;31m                     '{} not found in axis'.format(labels[mask]))\n\u001b[0m\u001b[1;32m   4405\u001b[0m             \u001b[0mindexer\u001b[0m \u001b[0;34m=\u001b[0m \u001b[0mindexer\u001b[0m\u001b[0;34m[\u001b[0m\u001b[0;34m~\u001b[0m\u001b[0mmask\u001b[0m\u001b[0;34m]\u001b[0m\u001b[0;34m\u001b[0m\u001b[0m\n\u001b[1;32m   4406\u001b[0m         \u001b[0;32mreturn\u001b[0m \u001b[0mself\u001b[0m\u001b[0;34m.\u001b[0m\u001b[0mdelete\u001b[0m\u001b[0;34m(\u001b[0m\u001b[0mindexer\u001b[0m\u001b[0;34m)\u001b[0m\u001b[0;34m\u001b[0m\u001b[0m\n",
      "\u001b[0;31mKeyError\u001b[0m: \"['Unnamed: 0'] not found in axis\""
     ]
    }
   ],
   "source": [
    "df2 = df2.drop('Unnamed: 0', axis=1 )\n",
    "df3 = df3.drop('Unnamed: 0', axis=1 )"
   ]
  },
  {
   "cell_type": "markdown",
   "metadata": {},
   "source": [
    "### dfx = junção de precificação 2017/2018 com membros pelo nome do vendedor"
   ]
  },
  {
   "cell_type": "code",
   "execution_count": 123,
   "metadata": {},
   "outputs": [],
   "source": [
    "dfx = pd.merge(df4,df5, on = \"Nome_completo\", how='outer')\n",
    "dfx = dfx.rename({'data':'data_venda','date_now':'data_membro'}, axis=1)"
   ]
  },
  {
   "cell_type": "code",
   "execution_count": 126,
   "metadata": {},
   "outputs": [],
   "source": [
    "dfx = dfx[dfx['Ano_x'] == dfx['Ano_y']]\n",
    "dfx['Ano'] = dfx['Ano_y']\n",
    "dfx = dfx[dfx['Sem'] == dfx['Mes_y']]"
   ]
  },
  {
   "cell_type": "code",
   "execution_count": 127,
   "metadata": {},
   "outputs": [],
   "source": [
    "dfx = dfx.drop(['Unnamed: 0_x','Unnamed: 0_y', 'Mes_y','Ano_x', 'Ano_y','key'], axis=1)"
   ]
  },
  {
   "cell_type": "code",
   "execution_count": 128,
   "metadata": {},
   "outputs": [
    {
     "data": {
      "text/html": [
       "<div>\n",
       "<style scoped>\n",
       "    .dataframe tbody tr th:only-of-type {\n",
       "        vertical-align: middle;\n",
       "    }\n",
       "\n",
       "    .dataframe tbody tr th {\n",
       "        vertical-align: top;\n",
       "    }\n",
       "\n",
       "    .dataframe thead th {\n",
       "        text-align: right;\n",
       "    }\n",
       "</style>\n",
       "<table border=\"1\" class=\"dataframe\">\n",
       "  <thead>\n",
       "    <tr style=\"text-align: right;\">\n",
       "      <th></th>\n",
       "      <th>Path</th>\n",
       "      <th>Nome</th>\n",
       "      <th>Apelido</th>\n",
       "      <th>vendedor</th>\n",
       "      <th>data_venda</th>\n",
       "      <th>distancia</th>\n",
       "      <th>unidade_tempo</th>\n",
       "      <th>tempo</th>\n",
       "      <th>cst_1</th>\n",
       "      <th>cst2</th>\n",
       "      <th>cst3</th>\n",
       "      <th>cst4</th>\n",
       "      <th>cst5</th>\n",
       "      <th>horas_cst1</th>\n",
       "      <th>horas_cst2</th>\n",
       "      <th>horas_cst3</th>\n",
       "      <th>horas_cst4</th>\n",
       "      <th>horas_cst5</th>\n",
       "      <th>tipo_projeto</th>\n",
       "      <th>area</th>\n",
       "      <th>detalhe</th>\n",
       "      <th>perspectiva_recompra</th>\n",
       "      <th>oportunidade</th>\n",
       "      <th>risco</th>\n",
       "      <th>porte</th>\n",
       "      <th>tipo_empresa</th>\n",
       "      <th>markup</th>\n",
       "      <th>preço</th>\n",
       "      <th>Nome_completo</th>\n",
       "      <th>Mes_x</th>\n",
       "      <th>Sem</th>\n",
       "      <th>Área</th>\n",
       "      <th>Cargo</th>\n",
       "      <th>Gmail</th>\n",
       "      <th>Data_de_nascimento</th>\n",
       "      <th>Engª Produção</th>\n",
       "      <th>data_membro</th>\n",
       "      <th>Localizacao</th>\n",
       "      <th>date_UFSC</th>\n",
       "      <th>date_EJEP</th>\n",
       "      <th>Ano</th>\n",
       "    </tr>\n",
       "  </thead>\n",
       "  <tbody>\n",
       "    <tr>\n",
       "      <th>0</th>\n",
       "      <td>.\\Em processo de venda\\Açaí II - Gestão de Est...</td>\n",
       "      <td>Frutos de Goiás</td>\n",
       "      <td>Açaí II</td>\n",
       "      <td>Bello</td>\n",
       "      <td>2017-04-25</td>\n",
       "      <td>9.0</td>\n",
       "      <td>Por Semanas</td>\n",
       "      <td>14.0</td>\n",
       "      <td>Interno</td>\n",
       "      <td>Externo</td>\n",
       "      <td>Externo</td>\n",
       "      <td>NaN</td>\n",
       "      <td>NaN</td>\n",
       "      <td>15.0</td>\n",
       "      <td>15.0</td>\n",
       "      <td>10.0</td>\n",
       "      <td>NaN</td>\n",
       "      <td>NaN</td>\n",
       "      <td>Consultoria</td>\n",
       "      <td>Logística</td>\n",
       "      <td>Não Necessário</td>\n",
       "      <td>Médio</td>\n",
       "      <td>Médio</td>\n",
       "      <td>Baixo</td>\n",
       "      <td>Médio</td>\n",
       "      <td>Comércio/Serviço</td>\n",
       "      <td>0.5245</td>\n",
       "      <td>10000.0</td>\n",
       "      <td>Lucas Siqueira Bello</td>\n",
       "      <td>4.0</td>\n",
       "      <td>1.0</td>\n",
       "      <td>PJT</td>\n",
       "      <td>Gerente</td>\n",
       "      <td>lucassiqueirabello@gmail.com</td>\n",
       "      <td>1996-12-11</td>\n",
       "      <td>Mecânica</td>\n",
       "      <td>2017-01-01</td>\n",
       "      <td>Córrego Grande</td>\n",
       "      <td>2015-01-01</td>\n",
       "      <td>2016-01-01</td>\n",
       "      <td>2017.0</td>\n",
       "    </tr>\n",
       "    <tr>\n",
       "      <th>3</th>\n",
       "      <td>.\\Não Vendidas\\RH - Pesquisa de Mercado\\Precif...</td>\n",
       "      <td>Pessoa Física (Thiago)</td>\n",
       "      <td>RH</td>\n",
       "      <td>Bello</td>\n",
       "      <td>2017-05-10</td>\n",
       "      <td>10.0</td>\n",
       "      <td>Por Semanas</td>\n",
       "      <td>8.0</td>\n",
       "      <td>Interno</td>\n",
       "      <td>Externo</td>\n",
       "      <td>NaN</td>\n",
       "      <td>NaN</td>\n",
       "      <td>NaN</td>\n",
       "      <td>15.0</td>\n",
       "      <td>20.0</td>\n",
       "      <td>NaN</td>\n",
       "      <td>NaN</td>\n",
       "      <td>NaN</td>\n",
       "      <td>Consultoria</td>\n",
       "      <td>Análise de Viabilidade</td>\n",
       "      <td>Não Necessário</td>\n",
       "      <td>Baixo</td>\n",
       "      <td>Alto</td>\n",
       "      <td>Baixo</td>\n",
       "      <td>Baixo</td>\n",
       "      <td>Comércio/Serviço</td>\n",
       "      <td>0.4440</td>\n",
       "      <td>5000.0</td>\n",
       "      <td>Lucas Siqueira Bello</td>\n",
       "      <td>5.0</td>\n",
       "      <td>1.0</td>\n",
       "      <td>PJT</td>\n",
       "      <td>Gerente</td>\n",
       "      <td>lucassiqueirabello@gmail.com</td>\n",
       "      <td>1996-12-11</td>\n",
       "      <td>Mecânica</td>\n",
       "      <td>2017-01-01</td>\n",
       "      <td>Córrego Grande</td>\n",
       "      <td>2015-01-01</td>\n",
       "      <td>2016-01-01</td>\n",
       "      <td>2017.0</td>\n",
       "    </tr>\n",
       "    <tr>\n",
       "      <th>10</th>\n",
       "      <td>.\\Em processo de venda\\Favorável - MP-Melhoria...</td>\n",
       "      <td>Eco Construtora Favaretto</td>\n",
       "      <td>Favorável</td>\n",
       "      <td>Yuri</td>\n",
       "      <td>2017-03-30</td>\n",
       "      <td>1.0</td>\n",
       "      <td>Por Semanas</td>\n",
       "      <td>11.0</td>\n",
       "      <td>Interno</td>\n",
       "      <td>Interno</td>\n",
       "      <td>Trainee</td>\n",
       "      <td>NaN</td>\n",
       "      <td>NaN</td>\n",
       "      <td>20.0</td>\n",
       "      <td>20.0</td>\n",
       "      <td>20.0</td>\n",
       "      <td>NaN</td>\n",
       "      <td>NaN</td>\n",
       "      <td>Consultoria</td>\n",
       "      <td>MP</td>\n",
       "      <td>Melhoria de Processo</td>\n",
       "      <td>Baixo</td>\n",
       "      <td>Médio</td>\n",
       "      <td>Médio</td>\n",
       "      <td>Baixo</td>\n",
       "      <td>Comércio/Serviço</td>\n",
       "      <td>0.4090</td>\n",
       "      <td>5010</td>\n",
       "      <td>Yuri Boing</td>\n",
       "      <td>3.0</td>\n",
       "      <td>1.0</td>\n",
       "      <td>ADM</td>\n",
       "      <td>Gerente</td>\n",
       "      <td>yuriboing4@gmail.com</td>\n",
       "      <td>1996-10-31</td>\n",
       "      <td>Elétrica</td>\n",
       "      <td>2017-01-01</td>\n",
       "      <td>Jurere</td>\n",
       "      <td>2015-01-01</td>\n",
       "      <td>2016-01-01</td>\n",
       "      <td>2017.0</td>\n",
       "    </tr>\n",
       "    <tr>\n",
       "      <th>14</th>\n",
       "      <td>.\\Em processo de venda\\Diabetes - Análise de v...</td>\n",
       "      <td>-</td>\n",
       "      <td>diabetes</td>\n",
       "      <td>yuri</td>\n",
       "      <td>2017-05-18</td>\n",
       "      <td>10.0</td>\n",
       "      <td>Por Semanas</td>\n",
       "      <td>5.0</td>\n",
       "      <td>Interno</td>\n",
       "      <td>Externo</td>\n",
       "      <td>NaN</td>\n",
       "      <td>NaN</td>\n",
       "      <td>NaN</td>\n",
       "      <td>20.0</td>\n",
       "      <td>20.0</td>\n",
       "      <td>NaN</td>\n",
       "      <td>NaN</td>\n",
       "      <td>NaN</td>\n",
       "      <td>Consultoria</td>\n",
       "      <td>SAG</td>\n",
       "      <td>Não Necessário</td>\n",
       "      <td>Baixo</td>\n",
       "      <td>Baixo</td>\n",
       "      <td>Baixo</td>\n",
       "      <td>Baixo</td>\n",
       "      <td>Indústria</td>\n",
       "      <td>0.4000</td>\n",
       "      <td>2600.0</td>\n",
       "      <td>Yuri Boing</td>\n",
       "      <td>5.0</td>\n",
       "      <td>1.0</td>\n",
       "      <td>ADM</td>\n",
       "      <td>Gerente</td>\n",
       "      <td>yuriboing4@gmail.com</td>\n",
       "      <td>1996-10-31</td>\n",
       "      <td>Elétrica</td>\n",
       "      <td>2017-01-01</td>\n",
       "      <td>Jurere</td>\n",
       "      <td>2015-01-01</td>\n",
       "      <td>2016-01-01</td>\n",
       "      <td>2017.0</td>\n",
       "    </tr>\n",
       "    <tr>\n",
       "      <th>18</th>\n",
       "      <td>.\\Em processo de venda\\Golfe - Layout (MP)\\MP\\...</td>\n",
       "      <td>-</td>\n",
       "      <td>diabetes</td>\n",
       "      <td>yuri</td>\n",
       "      <td>2017-05-18</td>\n",
       "      <td>1.0</td>\n",
       "      <td>Por Semanas</td>\n",
       "      <td>1.0</td>\n",
       "      <td>Interno</td>\n",
       "      <td>Externo</td>\n",
       "      <td>Externo</td>\n",
       "      <td>NaN</td>\n",
       "      <td>NaN</td>\n",
       "      <td>130.0</td>\n",
       "      <td>220.0</td>\n",
       "      <td>220.0</td>\n",
       "      <td>NaN</td>\n",
       "      <td>NaN</td>\n",
       "      <td>Consultoria</td>\n",
       "      <td>MP</td>\n",
       "      <td>Estado Atual</td>\n",
       "      <td>Muito Alto</td>\n",
       "      <td>Médio</td>\n",
       "      <td>Baixo</td>\n",
       "      <td>Baixo</td>\n",
       "      <td>Indústria</td>\n",
       "      <td>0.4000</td>\n",
       "      <td>8100.0</td>\n",
       "      <td>Yuri Boing</td>\n",
       "      <td>5.0</td>\n",
       "      <td>1.0</td>\n",
       "      <td>ADM</td>\n",
       "      <td>Gerente</td>\n",
       "      <td>yuriboing4@gmail.com</td>\n",
       "      <td>1996-10-31</td>\n",
       "      <td>Elétrica</td>\n",
       "      <td>2017-01-01</td>\n",
       "      <td>Jurere</td>\n",
       "      <td>2015-01-01</td>\n",
       "      <td>2016-01-01</td>\n",
       "      <td>2017.0</td>\n",
       "    </tr>\n",
       "  </tbody>\n",
       "</table>\n",
       "</div>"
      ],
      "text/plain": [
       "                                                 Path  \\\n",
       "0   .\\Em processo de venda\\Açaí II - Gestão de Est...   \n",
       "3   .\\Não Vendidas\\RH - Pesquisa de Mercado\\Precif...   \n",
       "10  .\\Em processo de venda\\Favorável - MP-Melhoria...   \n",
       "14  .\\Em processo de venda\\Diabetes - Análise de v...   \n",
       "18  .\\Em processo de venda\\Golfe - Layout (MP)\\MP\\...   \n",
       "\n",
       "                         Nome    Apelido vendedor data_venda  distancia  \\\n",
       "0             Frutos de Goiás    Açaí II    Bello 2017-04-25        9.0   \n",
       "3      Pessoa Física (Thiago)         RH    Bello 2017-05-10       10.0   \n",
       "10  Eco Construtora Favaretto  Favorável     Yuri 2017-03-30        1.0   \n",
       "14                          -   diabetes     yuri 2017-05-18       10.0   \n",
       "18                          -   diabetes     yuri 2017-05-18        1.0   \n",
       "\n",
       "   unidade_tempo  tempo    cst_1     cst2     cst3 cst4 cst5  horas_cst1  \\\n",
       "0    Por Semanas   14.0  Interno  Externo  Externo  NaN  NaN        15.0   \n",
       "3    Por Semanas    8.0  Interno  Externo      NaN  NaN  NaN        15.0   \n",
       "10   Por Semanas   11.0  Interno  Interno  Trainee  NaN  NaN        20.0   \n",
       "14   Por Semanas    5.0  Interno  Externo      NaN  NaN  NaN        20.0   \n",
       "18   Por Semanas    1.0  Interno  Externo  Externo  NaN  NaN       130.0   \n",
       "\n",
       "    horas_cst2  horas_cst3  horas_cst4  horas_cst5 tipo_projeto  \\\n",
       "0         15.0        10.0         NaN         NaN  Consultoria   \n",
       "3         20.0         NaN         NaN         NaN  Consultoria   \n",
       "10        20.0        20.0         NaN         NaN  Consultoria   \n",
       "14        20.0         NaN         NaN         NaN  Consultoria   \n",
       "18       220.0       220.0         NaN         NaN  Consultoria   \n",
       "\n",
       "                      area               detalhe perspectiva_recompra  \\\n",
       "0                Logística        Não Necessário                Médio   \n",
       "3   Análise de Viabilidade        Não Necessário                Baixo   \n",
       "10                      MP  Melhoria de Processo                Baixo   \n",
       "14                     SAG        Não Necessário                Baixo   \n",
       "18                      MP          Estado Atual           Muito Alto   \n",
       "\n",
       "   oportunidade  risco  porte      tipo_empresa  markup    preço  \\\n",
       "0         Médio  Baixo  Médio  Comércio/Serviço  0.5245  10000.0   \n",
       "3          Alto  Baixo  Baixo  Comércio/Serviço  0.4440   5000.0   \n",
       "10        Médio  Médio  Baixo  Comércio/Serviço  0.4090     5010   \n",
       "14        Baixo  Baixo  Baixo         Indústria  0.4000   2600.0   \n",
       "18        Médio  Baixo  Baixo         Indústria  0.4000   8100.0   \n",
       "\n",
       "           Nome_completo  Mes_x  Sem Área    Cargo  \\\n",
       "0   Lucas Siqueira Bello    4.0  1.0  PJT  Gerente   \n",
       "3   Lucas Siqueira Bello    5.0  1.0  PJT  Gerente   \n",
       "10            Yuri Boing    3.0  1.0  ADM  Gerente   \n",
       "14            Yuri Boing    5.0  1.0  ADM  Gerente   \n",
       "18            Yuri Boing    5.0  1.0  ADM  Gerente   \n",
       "\n",
       "                           Gmail Data_de_nascimento Engª Produção data_membro  \\\n",
       "0   lucassiqueirabello@gmail.com         1996-12-11      Mecânica  2017-01-01   \n",
       "3   lucassiqueirabello@gmail.com         1996-12-11      Mecânica  2017-01-01   \n",
       "10          yuriboing4@gmail.com         1996-10-31      Elétrica  2017-01-01   \n",
       "14          yuriboing4@gmail.com         1996-10-31      Elétrica  2017-01-01   \n",
       "18          yuriboing4@gmail.com         1996-10-31      Elétrica  2017-01-01   \n",
       "\n",
       "       Localizacao   date_UFSC   date_EJEP     Ano  \n",
       "0   Córrego Grande  2015-01-01  2016-01-01  2017.0  \n",
       "3   Córrego Grande  2015-01-01  2016-01-01  2017.0  \n",
       "10          Jurere  2015-01-01  2016-01-01  2017.0  \n",
       "14          Jurere  2015-01-01  2016-01-01  2017.0  \n",
       "18          Jurere  2015-01-01  2016-01-01  2017.0  "
      ]
     },
     "execution_count": 128,
     "metadata": {},
     "output_type": "execute_result"
    }
   ],
   "source": [
    "dfx.head()"
   ]
  },
  {
   "cell_type": "markdown",
   "metadata": {},
   "source": [
    "### merged_prec = todas as precificações juntas + membros dataset"
   ]
  },
  {
   "cell_type": "code",
   "execution_count": 139,
   "metadata": {},
   "outputs": [
    {
     "name": "stderr",
     "output_type": "stream",
     "text": [
      "/usr/local/lib/python3.5/dist-packages/ipykernel_launcher.py:1: FutureWarning: Sorting because non-concatenation axis is not aligned. A future version\n",
      "of pandas will change to not sort by default.\n",
      "\n",
      "To accept the future behavior, pass 'sort=False'.\n",
      "\n",
      "To retain the current behavior and silence the warning, pass 'sort=True'.\n",
      "\n",
      "  \"\"\"Entry point for launching an IPython kernel.\n"
     ]
    }
   ],
   "source": [
    "merged_prec = pd.concat([df2,df3,dfx])"
   ]
  },
  {
   "cell_type": "code",
   "execution_count": 147,
   "metadata": {},
   "outputs": [
    {
     "data": {
      "text/plain": [
       "(211, 42)"
      ]
     },
     "execution_count": 147,
     "metadata": {},
     "output_type": "execute_result"
    }
   ],
   "source": [
    "merged_prec.shape"
   ]
  },
  {
   "cell_type": "code",
   "execution_count": 185,
   "metadata": {},
   "outputs": [
    {
     "data": {
      "text/plain": [
       "2017.0    103\n",
       "2016.0     29\n",
       "2014.0     27\n",
       "2013.0     21\n",
       "2018.0     18\n",
       "2015.0     13\n",
       "Name: Ano, dtype: int64"
      ]
     },
     "execution_count": 185,
     "metadata": {},
     "output_type": "execute_result"
    }
   ],
   "source": [
    "merged_prec.Ano.value_counts()"
   ]
  },
  {
   "cell_type": "code",
   "execution_count": 146,
   "metadata": {},
   "outputs": [
    {
     "data": {
      "text/plain": [
       "<matplotlib.axes._subplots.AxesSubplot at 0x7f4c195efb38>"
      ]
     },
     "execution_count": 146,
     "metadata": {},
     "output_type": "execute_result"
    },
    {
     "data": {
      "image/png": "[encoded data removed]",
      "text/plain": [
       "<Figure size 432x288 with 1 Axes>"
      ]
     },
     "metadata": {},
     "output_type": "display_data"
    }
   ],
   "source": [
    "figsize=(10,30)\n",
    "sns.heatmap(merged_prec.isnull(), yticklabels = False, cbar = False, cmap='viridis')"
   ]
  },
  {
   "cell_type": "code",
   "execution_count": 211,
   "metadata": {},
   "outputs": [],
   "source": [
    "test = merged_prec.dropna(thresh=9)"
   ]
  },
  {
   "cell_type": "code",
   "execution_count": 212,
   "metadata": {},
   "outputs": [
    {
     "data": {
      "text/plain": [
       "<matplotlib.axes._subplots.AxesSubplot at 0x7f4c279da588>"
      ]
     },
     "execution_count": 212,
     "metadata": {},
     "output_type": "execute_result"
    },
    {
     "data": {
      "image/png": "[encoded data removed]",
      "text/plain": [
       "<Figure size 432x288 with 1 Axes>"
      ]
     },
     "metadata": {},
     "output_type": "display_data"
    }
   ],
   "source": [
    "figsize=(10,30)\n",
    "sns.heatmap(test.isnull(), yticklabels = False, cbar = False, cmap='viridis')"
   ]
  },
  {
   "cell_type": "code",
   "execution_count": 213,
   "metadata": {},
   "outputs": [
    {
     "data": {
      "text/plain": [
       "(194, 42)"
      ]
     },
     "execution_count": 213,
     "metadata": {},
     "output_type": "execute_result"
    }
   ],
   "source": [
    "test.shape"
   ]
  },
  {
   "cell_type": "code",
   "execution_count": 214,
   "metadata": {},
   "outputs": [
    {
     "data": {
      "text/plain": [
       "2017.0    103\n",
       "2016.0     29\n",
       "2014.0     27\n",
       "2018.0     18\n",
       "2015.0     13\n",
       "2013.0      4\n",
       "Name: Ano, dtype: int64"
      ]
     },
     "execution_count": 214,
     "metadata": {},
     "output_type": "execute_result"
    }
   ],
   "source": [
    "test.Ano.value_counts()"
   ]
  },
  {
   "cell_type": "code",
   "execution_count": null,
   "metadata": {},
   "outputs": [],
   "source": []
  },
  {
   "cell_type": "code",
   "execution_count": null,
   "metadata": {},
   "outputs": [],
   "source": [
    "# não deu certo"
   ]
  },
  {
   "cell_type": "code",
   "execution_count": 7,
   "metadata": {},
   "outputs": [],
   "source": [
    "def getdir_gabi(path):\n",
    "    try: \n",
    "        paths = []\n",
    "        direc = path\n",
    "        while direc != '':\n",
    "            direc = os.path.split(path)[0]\n",
    "            #print(direc)\n",
    "            direc2 = os.path.split(path)[1]\n",
    "            print(direc2)\n",
    "            paths.append(direc2)\n",
    "            path = direc\n",
    "    except:\n",
    "            return np.nan\n",
    "    return paths"
   ]
  },
  {
   "cell_type": "code",
   "execution_count": 12,
   "metadata": {},
   "outputs": [
    {
     "name": "stdout",
     "output_type": "stream",
     "text": [
      ".\\Não vendidas\\Calha - Layout\\Precificação.Calha.xlsx\n",
      ".\\Não vendidas\\Camaleão - 5s e MP\\Planilha de Precificacao 2013_Camaleão.xlsx\n",
      ".\\Não vendidas\\Chuva - Qualidade\\Planilha de Precificacao chuva.xlsx\n",
      ".\\Não vendidas\\Comunicação V\\Planilha Precificação Intelbras.xlsx\n",
      ".\\Vendidas\\Bobina - TRF\\Vendas\\Planilha de Precificacao BOBINA.xlsx\n",
      ".\\Vendidas\\Cerâmica - PCP\\Vendas\\Planilha de Precificacao - Cerâmica.xlsx\n",
      ".\\Vendidas\\Christmas - MP e PCP\\Vendas\\Planilha de Precificacao Christmas 2013.xlsx\n",
      ".\\Vendidas\\Churrasco - PE\\Vendas\\Precificação Churrasco.xlsx\n",
      ".\\Vendidas\\Compras II - PE, MP e Sistema de Custos\\Vendas\\Planilha de Precificacao - Compras 2.xlsx\n",
      ".\\Vendidas\\Comunicação VI - MFV\\Vendas\\Planilha de Precificacao Intelbras Tiago 2013.1 2.xlsx\n",
      ".\\Vendidas\\Construção V - MP\\Vendas\\Planilha de Precificacao - Construção V  (última proposta).xlsx\n",
      ".\\Vendidas\\Creme I - MFV e TRF\\Vendas\\Planilha de Precificacao 2013 - creme - MFV.xlsx\n",
      ".\\Vendidas\\Creme I - MFV e TRF\\Vendas\\Planilha de Precificacao 2013 - creme - TRF.xlsx\n",
      ".\\Vendidas\\Destruction - Lean Construction\\Vendas\\Planilha de Precificacao 2013 Destruction.xlsx\n",
      ".\\Vendidas\\Fontes - MP\\Vendas\\Planilha de Precificacao Fontes.xlsx\n",
      ".\\Vendidas\\Glass - 5S\\Vendas\\Planilha de Precificacao 2013 - Glass.xlsx\n",
      ".\\Vendidas\\Pilates - SAG e PCP\\Vendas\\Planilha de Precificacao - 2013.1 - Pilates.xlsx\n",
      ".\\Vendidas\\Beta - 5S\\Vendas\\Precificação\\Planilha de Precificacao BETA.xlsx\n",
      ".\\Vendidas\\Boat I - Gestão de Rotina\\Vendas\\Precificação\\Planilha de Precificacao 2013 - Boat.xlsx\n",
      ".\\Vendidas\\Circuito - MTM\\Vendas\\Precificação\\Planilha de Precificacao Circuito.xlsx\n",
      ".\\Não vendidas\\Labor -  PE Não apresentado\\Apoio - Planilha de Projetos\\Vendas\\2ª Visita e Elaboração\\Planilha de Precificacao 2013.xlsx\n"
     ]
    },
    {
     "data": {
      "text/plain": [
       "['.\\\\Não vendidas\\\\Calha - Layout\\\\Precificação.Calha.xlsx']"
      ]
     },
     "execution_count": 12,
     "metadata": {},
     "output_type": "execute_result"
    }
   ],
   "source": [
    "df2['Path'].apply(getdir_gabi)[0]"
   ]
  },
  {
   "cell_type": "code",
   "execution_count": null,
   "metadata": {},
   "outputs": [],
   "source": []
  }
 ],
 "metadata": {
  "kernelspec": {
   "display_name": "Python 3",
   "language": "python",
   "name": "python3"
  },
  "language_info": {
   "codemirror_mode": {
    "name": "ipython",
    "version": 3
   },
   "file_extension": ".py",
   "mimetype": "text/x-python",
   "name": "python",
   "nbconvert_exporter": "python",
   "pygments_lexer": "ipython3",
   "version": "3.5.2"
  }
 },
 "nbformat": 4,
 "nbformat_minor": 2
}
