{
 "cells": [
  {
   "cell_type": "code",
   "execution_count": 215,
   "metadata": {
    "collapsed": true
   },
   "outputs": [],
   "source": [
    "import pandas as pd\n",
    "import numpy as np\n",
    "import xlrd\n",
    "import matplotlib.pyplot as plt\n",
    "import seaborn as sns\n",
    "from os import walk\n",
    "import os"
   ]
  },
  {
   "cell_type": "code",
   "execution_count": 216,
   "metadata": {
    "collapsed": true
   },
   "outputs": [],
   "source": [
    "import sys\n",
    "import os\n",
    "import comtypes.client"
   ]
  },
  {
   "cell_type": "code",
   "execution_count": 217,
   "metadata": {
    "collapsed": true
   },
   "outputs": [],
   "source": [
    "from os import chdir, getcwd, listdir, path\n",
    "from win32com import client"
   ]
  },
  {
   "cell_type": "code",
   "execution_count": 221,
   "metadata": {},
   "outputs": [],
   "source": [
    "import sys\n",
    "import os\n",
    "import os.path\n",
    "import string\n",
    "from textwrap import TextWrapper"
   ]
  },
  {
   "cell_type": "markdown",
   "metadata": {},
   "source": [
    "# Precificação 2018"
   ]
  },
  {
   "cell_type": "code",
   "execution_count": 148,
   "metadata": {
    "collapsed": true
   },
   "outputs": [],
   "source": [
    "workbook_2018 = xlrd.open_workbook('Precificação - Pedrada Validada (1).xlsx')\n",
    "sheet_2018 = workbook_2018.sheet_by_index(1)"
   ]
  },
  {
   "cell_type": "code",
   "execution_count": 170,
   "metadata": {},
   "outputs": [
    {
     "name": "stdout",
     "output_type": "stream",
     "text": [
      "A posição 6,2 é o nome da empresa:  Anima Acustica\n",
      "A posição 7,2 é o apelido da empresa:  Pedrada\n",
      "A posição 6,7 é o nome do vendedor:  Fernando\n",
      "A posição 7,7 é a data da precificação:  42856.0\n",
      "A posição 12,3 é a distância em km:  0.0\n",
      "A posição 23,3 é a unidade de tempo do projeto  Por Semanas\n",
      "A posição 24,3 é o tempo do projeto:  15.0\n",
      "A posição 31,2 é se o consultor1 é externo ou interno:  Interno\n",
      "A posição 31,2 é o número de horas do consultor1:  15.0\n",
      "A posição 77,3 é o tipo de projeto:  Consultoria\n",
      "A posição 78,3 é a área de atuação:  Plano de Marketing\n",
      "A posição 79,3 é o detalhe da área de atuação:  Não Necessário\n",
      "A posição 80,3 é a perspectiva de recompra:  Muito Alto\n",
      "A posição 81,3 é a oportunidade:  Alto\n",
      "A posição 82,3 é o risco:  Médio\n",
      "A posição 82,3 é o porte da empresa:  Alto\n",
      "A posição 82,3 é tipo de empresa:  Comércio/Serviço\n",
      "A posição 82,3 é o markup:  0.443\n",
      "A posição 92,5 é o preço final validado e apresentado:  7500.0\n"
     ]
    }
   ],
   "source": [
    "print ('A posição 6,2 é o nome da empresa: ', sheet_2018.cell_value(6,2))\n",
    "print ('A posição 7,2 é o apelido da empresa: ', sheet_2018.cell_value(7,2))\n",
    "print ('A posição 6,7 é o nome do vendedor: ', sheet_2018.cell_value(6,7))\n",
    "print ('A posição 7,7 é a data da precificação: ', sheet_2018.cell_value(7,7))\n",
    "print ('A posição 12,3 é a distância em km: ', sheet_2018.cell_value(12,3))\n",
    "print ('A posição 23,3 é a unidade de tempo do projeto ', sheet_2018.cell_value(23,3))\n",
    "print ('A posição 24,3 é o tempo do projeto: ', sheet_2018.cell_value(24,3))\n",
    "print ('A posição 31,2 é se o consultor1 é externo ou interno: ', sheet_2018.cell_value(31,2))\n",
    "print ('A posição 29,2 é o número de horas do consultor1: ', sheet_2018.cell_value(29,2))\n",
    "print ('A posição 77,3 é o tipo de projeto: ', sheet_2018.cell_value(77,3))\n",
    "print ('A posição 78,3 é a área de atuação: ', sheet_2018.cell_value(78,3))\n",
    "print ('A posição 79,3 é o detalhe da área de atuação: ', sheet_2018.cell_value(79,3))\n",
    "print ('A posição 80,3 é a perspectiva de recompra: ', sheet_2018.cell_value(80,3))\n",
    "print ('A posição 81,3 é a oportunidade: ', sheet_2018.cell_value(81,3))\n",
    "print ('A posição 82,3 é o risco: ', sheet_2018.cell_value(82,3))\n",
    "print ('A posição 82,3 é o porte da empresa: ', sheet_2018.cell_value(83,3))\n",
    "print ('A posição 82,3 é tipo de empresa: ', sheet_2018.cell_value(84,3))\n",
    "print ('A posição 82,3 é o markup: ', sheet_2018.cell_value(85,3))\n",
    "print ('A posição 92,5 é o preço final validado e apresentado: ', sheet_2018.cell_value(92,5))"
   ]
  },
  {
   "cell_type": "code",
   "execution_count": 150,
   "metadata": {},
   "outputs": [
    {
     "name": "stdout",
     "output_type": "stream",
     "text": [
      "2017-05-01 00:00:00\n"
     ]
    }
   ],
   "source": [
    "from datetime import datetime\n",
    "excel_date = 42856\n",
    "dt = datetime.fromordinal(datetime(1900, 1, 1).toordinal() + excel_date - 2)\n",
    "print (dt)"
   ]
  },
  {
   "cell_type": "code",
   "execution_count": 171,
   "metadata": {},
   "outputs": [],
   "source": [
    "data_2018 = [(sheet_2018.cell_value(6,2),sheet_2018.cell_value(7,2), sheet_2018.cell_value(6,7), sheet_2018.cell_value(7,7), sheet_2018.cell_value(12,3), sheet_2018.cell_value(23,3), sheet_2018.cell_value(24,3), sheet_2018.cell_value(31,2), sheet_2018.cell_value(31,3),sheet_2018.cell_value(31,4), sheet_2018.cell_value(31,5), sheet_2018.cell_value(31,6), sheet_2018.cell_value(29,2), sheet_2018.cell_value(29,3), sheet_2018.cell_value(29,4), sheet_2018.cell_value(29,5), sheet_2018.cell_value(29,6), sheet_2018.cell_value(77,3), sheet_2018.cell_value(78,3),sheet_2018.cell_value(79,3), sheet_2018.cell_value(80,3),sheet_2018.cell_value(81,3), sheet_2018.cell_value(82,3), sheet_2018.cell_value(83,3), sheet_2018.cell_value(84,3), sheet_2018.cell_value(85,3), sheet_2018.cell_value(92,5))]\n",
    "labels_2018 = ['Nome', 'Apelido','vendedor','data','distancia','unidade_tempo','tempo', 'cst_1','cst2','cst3','cst4','cst5','horas_cst1','horas_cst2','horas_cst3','horas_cst4','horas_cst5','tipo_projeto','area', 'detalhe','perspectiva_recompra','oportunidade', 'risco','porte','tipo_empresa','markup','preço']"
   ]
  },
  {
   "cell_type": "code",
   "execution_count": 172,
   "metadata": {},
   "outputs": [
    {
     "data": {
      "text/html": [
       "<div>\n",
       "<style>\n",
       "    .dataframe thead tr:only-child th {\n",
       "        text-align: right;\n",
       "    }\n",
       "\n",
       "    .dataframe thead th {\n",
       "        text-align: left;\n",
       "    }\n",
       "\n",
       "    .dataframe tbody tr th {\n",
       "        vertical-align: top;\n",
       "    }\n",
       "</style>\n",
       "<table border=\"1\" class=\"dataframe\">\n",
       "  <thead>\n",
       "    <tr style=\"text-align: right;\">\n",
       "      <th></th>\n",
       "      <th>Nome</th>\n",
       "      <th>Apelido</th>\n",
       "      <th>vendedor</th>\n",
       "      <th>data</th>\n",
       "      <th>distancia</th>\n",
       "      <th>unidade_tempo</th>\n",
       "      <th>tempo</th>\n",
       "      <th>cst_1</th>\n",
       "      <th>cst2</th>\n",
       "      <th>cst3</th>\n",
       "      <th>...</th>\n",
       "      <th>tipo_projeto</th>\n",
       "      <th>area</th>\n",
       "      <th>detalhe</th>\n",
       "      <th>perspectiva_recompra</th>\n",
       "      <th>oportunidade</th>\n",
       "      <th>risco</th>\n",
       "      <th>porte</th>\n",
       "      <th>tipo_empresa</th>\n",
       "      <th>markup</th>\n",
       "      <th>preço</th>\n",
       "    </tr>\n",
       "  </thead>\n",
       "  <tbody>\n",
       "    <tr>\n",
       "      <th>0</th>\n",
       "      <td>Anima Acustica</td>\n",
       "      <td>Pedrada</td>\n",
       "      <td>Fernando</td>\n",
       "      <td>42856.0</td>\n",
       "      <td>0.0</td>\n",
       "      <td>Por Semanas</td>\n",
       "      <td>15.0</td>\n",
       "      <td>Interno</td>\n",
       "      <td>Externo</td>\n",
       "      <td>Interno</td>\n",
       "      <td>...</td>\n",
       "      <td>Consultoria</td>\n",
       "      <td>Plano de Marketing</td>\n",
       "      <td>Não Necessário</td>\n",
       "      <td>Muito Alto</td>\n",
       "      <td>Alto</td>\n",
       "      <td>Médio</td>\n",
       "      <td>Alto</td>\n",
       "      <td>Comércio/Serviço</td>\n",
       "      <td>0.443</td>\n",
       "      <td>7500.0</td>\n",
       "    </tr>\n",
       "  </tbody>\n",
       "</table>\n",
       "<p>1 rows × 27 columns</p>\n",
       "</div>"
      ],
      "text/plain": [
       "             Nome  Apelido  vendedor     data  distancia unidade_tempo  tempo  \\\n",
       "0  Anima Acustica  Pedrada  Fernando  42856.0        0.0   Por Semanas   15.0   \n",
       "\n",
       "     cst_1     cst2     cst3   ...   tipo_projeto                area  \\\n",
       "0  Interno  Externo  Interno   ...    Consultoria  Plano de Marketing   \n",
       "\n",
       "          detalhe  perspectiva_recompra  oportunidade  risco porte  \\\n",
       "0  Não Necessário            Muito Alto          Alto  Médio  Alto   \n",
       "\n",
       "       tipo_empresa markup   preço  \n",
       "0  Comércio/Serviço  0.443  7500.0  \n",
       "\n",
       "[1 rows x 27 columns]"
      ]
     },
     "execution_count": 172,
     "metadata": {},
     "output_type": "execute_result"
    }
   ],
   "source": [
    "dataset_2018 = pd.DataFrame(data_2018, columns=labels_2018)\n",
    "dataset_2018.head()"
   ]
  },
  {
   "cell_type": "code",
   "execution_count": 153,
   "metadata": {},
   "outputs": [],
   "source": [
    "from datetime import datetime\n",
    "excel_date = dataset_2018['data'].astype(int)\n",
    "dataset_2018['data'] = pd.datetime.fromordinal(datetime(1900, 1, 1).toordinal() + excel_date - 2)"
   ]
  },
  {
   "cell_type": "markdown",
   "metadata": {},
   "source": [
    "# Precificação 2015"
   ]
  },
  {
   "cell_type": "code",
   "execution_count": 154,
   "metadata": {},
   "outputs": [],
   "source": [
    "workbook_2015 = xlrd.open_workbook('Precificação Maçã(2).xlsx')\n",
    "sheet_2015 = workbook_2015.sheet_by_index(0)"
   ]
  },
  {
   "cell_type": "code",
   "execution_count": 192,
   "metadata": {},
   "outputs": [
    {
     "name": "stdout",
     "output_type": "stream",
     "text": [
      "A posição 8,5 é a distância em km:  8.0\n",
      "A posição 24,3 é a unidade de tempo do projeto:  Semanas\n",
      "A posição 24,5 é o tempo do projeto:  8.0\n",
      "A posição 19,2 é o número de horas do consultor1:  10.0\n",
      "A posição 31,4 é a área de atuação:  PCP\n",
      "A posição 31,5 é o detalhe:  Planejamento\n",
      "A posição 32,4 é a perspectiva de recompra:  Médio\n",
      "A posição 33,4 é a oportunidade:  Baixo\n",
      "A posição 34,4 é a urgência:  Médio\n",
      "A posição 35,4 é o tipo de empresa:  Indústria\n",
      "A posição 37,4 é o risco:  Médio\n",
      "A posição 94,1 é o preço:  5690.0\n"
     ]
    }
   ],
   "source": [
    "print ('A posição 8,5 é a distância em km: ', sheet_2015.cell_value(8,5))\n",
    "print ('A posição 24,3 é a unidade de tempo do projeto: ', sheet_2015.cell_value(24,3))\n",
    "print ('A posição 24,5 é o tempo do projeto: ', sheet_2015.cell_value(24,5))\n",
    "print ('A posição 19,2 é o número de horas do consultor1: ', sheet_2015.cell_value(19,2))\n",
    "print ('A posição 31,4 é a área de atuação: ', sheet_2015.cell_value(31,4))\n",
    "print ('A posição 31,5 é o detalhe: ', sheet_2015.cell_value(31,5))\n",
    "print ('A posição 32,4 é a perspectiva de recompra: ', sheet_2015.cell_value(32,4))\n",
    "print ('A posição 33,4 é a oportunidade: ', sheet_2015.cell_value(33,4))\n",
    "print ('A posição 34,4 é a urgência: ', sheet_2015.cell_value(34,4))\n",
    "print ('A posição 35,4 é o tipo de empresa: ', sheet_2015.cell_value(35,4))\n",
    "print ('A posição 37,4 é o risco: ', sheet_2015.cell_value(37,4))\n",
    "print ('A posição 94,1 é o preço: ', sheet_2015.cell_value(94,1))"
   ]
  },
  {
   "cell_type": "code",
   "execution_count": 196,
   "metadata": {},
   "outputs": [],
   "source": [
    "data_2015 = [(sheet_2015.cell_value(8,5),sheet_2015.cell_value(24,3),sheet_2015.cell_value(24,5), sheet_2015.cell_value(19,2), sheet_2015.cell_value(19,3), sheet_2015.cell_value(19,4), sheet_2015.cell_value(19,5), sheet_2015.cell_value(19,6), sheet_2015.cell_value(31,4), sheet_2015.cell_value(31,5), sheet_2015.cell_value(32,4), sheet_2015.cell_value(33,4), sheet_2015.cell_value(34,4), sheet_2015.cell_value(35,4), sheet_2015.cell_value(37,4), sheet_2015.cell_value(94,1)) ]\n",
    "labels_2015 = ['distancia','unidade_tempo','tempo','horas_cst1','horas_cst2','horas_cst3','horas_cst4','horas_cst5','area','detalhe','perspectiva_recompra','oportunidade','urgencia','tipo_empresa','risco','preço']"
   ]
  },
  {
   "cell_type": "code",
   "execution_count": 197,
   "metadata": {},
   "outputs": [
    {
     "data": {
      "text/html": [
       "<div>\n",
       "<style>\n",
       "    .dataframe thead tr:only-child th {\n",
       "        text-align: right;\n",
       "    }\n",
       "\n",
       "    .dataframe thead th {\n",
       "        text-align: left;\n",
       "    }\n",
       "\n",
       "    .dataframe tbody tr th {\n",
       "        vertical-align: top;\n",
       "    }\n",
       "</style>\n",
       "<table border=\"1\" class=\"dataframe\">\n",
       "  <thead>\n",
       "    <tr style=\"text-align: right;\">\n",
       "      <th></th>\n",
       "      <th>distancia</th>\n",
       "      <th>unidade_tempo</th>\n",
       "      <th>tempo</th>\n",
       "      <th>horas_cst1</th>\n",
       "      <th>horas_cst2</th>\n",
       "      <th>horas_cst3</th>\n",
       "      <th>horas_cst4</th>\n",
       "      <th>horas_cst5</th>\n",
       "      <th>area</th>\n",
       "      <th>detalhe</th>\n",
       "      <th>perspectiva_recompra</th>\n",
       "      <th>oportunidade</th>\n",
       "      <th>urgencia</th>\n",
       "      <th>tipo_empresa</th>\n",
       "      <th>risco</th>\n",
       "      <th>preço</th>\n",
       "    </tr>\n",
       "  </thead>\n",
       "  <tbody>\n",
       "    <tr>\n",
       "      <th>0</th>\n",
       "      <td>8.0</td>\n",
       "      <td>Semanas</td>\n",
       "      <td>8.0</td>\n",
       "      <td>10.0</td>\n",
       "      <td>20.0</td>\n",
       "      <td>10.0</td>\n",
       "      <td></td>\n",
       "      <td></td>\n",
       "      <td>PCP</td>\n",
       "      <td>Planejamento</td>\n",
       "      <td>Médio</td>\n",
       "      <td>Baixo</td>\n",
       "      <td>Médio</td>\n",
       "      <td>Indústria</td>\n",
       "      <td>Médio</td>\n",
       "      <td>5690.0</td>\n",
       "    </tr>\n",
       "  </tbody>\n",
       "</table>\n",
       "</div>"
      ],
      "text/plain": [
       "   distancia unidade_tempo  tempo  horas_cst1  horas_cst2  horas_cst3  \\\n",
       "0        8.0       Semanas    8.0        10.0        20.0        10.0   \n",
       "\n",
       "  horas_cst4 horas_cst5 area       detalhe perspectiva_recompra oportunidade  \\\n",
       "0                        PCP  Planejamento                Médio        Baixo   \n",
       "\n",
       "  urgencia tipo_empresa  risco   preço  \n",
       "0    Médio    Indústria  Médio  5690.0  "
      ]
     },
     "execution_count": 197,
     "metadata": {},
     "output_type": "execute_result"
    }
   ],
   "source": [
    "dataset_2015 = pd.DataFrame(data_2015, columns=labels_2015)\n",
    "dataset_2015.head()"
   ]
  },
  {
   "cell_type": "markdown",
   "metadata": {},
   "source": [
    "# Precificação 2013"
   ]
  },
  {
   "cell_type": "code",
   "execution_count": 207,
   "metadata": {
    "collapsed": true
   },
   "outputs": [],
   "source": [
    "workbook_2013 = xlrd.open_workbook('Precificação Churrasco.xlsx')\n",
    "sheet_2013 = workbook_2013.sheet_by_index(0)"
   ]
  },
  {
   "cell_type": "code",
   "execution_count": 212,
   "metadata": {},
   "outputs": [
    {
     "name": "stdout",
     "output_type": "stream",
     "text": [
      "A posição 8,5 é a distância em km:  14.4\n",
      "A posição 24,3 é a unidade de tempo do projeto:  Semanas\n",
      "A posição 24,5 é o tempo do projeto:  19.0\n",
      "A posição 19,2 é o número de horas do consultor1:  20.0\n",
      "A posição 94,1 é o preço:  12000.0\n"
     ]
    }
   ],
   "source": [
    "print ('A posição 8,5 é a distância em km: ', sheet_2013.cell_value(8,5))\n",
    "print ('A posição 24,3 é a unidade de tempo do projeto: ', sheet_2013.cell_value(24,3))\n",
    "print ('A posição 24,5 é o tempo do projeto: ', sheet_2013.cell_value(24,5))\n",
    "print ('A posição 19,2 é o número de horas do consultor1: ', sheet_2013.cell_value(19,2))\n",
    "print ('A posição 94,1 é o preço: ', sheet_2013.cell_value(81,1))"
   ]
  },
  {
   "cell_type": "code",
   "execution_count": 213,
   "metadata": {
    "collapsed": true
   },
   "outputs": [],
   "source": [
    "data_2013 = [(sheet_2013.cell_value(8,5),sheet_2013.cell_value(24,3),sheet_2013.cell_value(24,5), sheet_2013.cell_value(19,2), sheet_2013.cell_value(19,3), sheet_2013.cell_value(19,4), sheet_2013.cell_value(19,5), sheet_2013.cell_value(19,6), sheet_2013.cell_value(81,1) ) ]\n",
    "labels_2013 = ['distancia','unidade_tempo','tempo','horas_cst1','horas_cst2','horas_cst3','horas_cst4','horas_cst5','preço']"
   ]
  },
  {
   "cell_type": "code",
   "execution_count": 214,
   "metadata": {},
   "outputs": [
    {
     "data": {
      "text/html": [
       "<div>\n",
       "<style>\n",
       "    .dataframe thead tr:only-child th {\n",
       "        text-align: right;\n",
       "    }\n",
       "\n",
       "    .dataframe thead th {\n",
       "        text-align: left;\n",
       "    }\n",
       "\n",
       "    .dataframe tbody tr th {\n",
       "        vertical-align: top;\n",
       "    }\n",
       "</style>\n",
       "<table border=\"1\" class=\"dataframe\">\n",
       "  <thead>\n",
       "    <tr style=\"text-align: right;\">\n",
       "      <th></th>\n",
       "      <th>distancia</th>\n",
       "      <th>unidade_tempo</th>\n",
       "      <th>tempo</th>\n",
       "      <th>horas_cst1</th>\n",
       "      <th>horas_cst2</th>\n",
       "      <th>horas_cst3</th>\n",
       "      <th>horas_cst4</th>\n",
       "      <th>horas_cst5</th>\n",
       "      <th>preço</th>\n",
       "    </tr>\n",
       "  </thead>\n",
       "  <tbody>\n",
       "    <tr>\n",
       "      <th>0</th>\n",
       "      <td>14.4</td>\n",
       "      <td>Semanas</td>\n",
       "      <td>19.0</td>\n",
       "      <td>20.0</td>\n",
       "      <td>20.0</td>\n",
       "      <td></td>\n",
       "      <td></td>\n",
       "      <td></td>\n",
       "      <td>12000.0</td>\n",
       "    </tr>\n",
       "  </tbody>\n",
       "</table>\n",
       "</div>"
      ],
      "text/plain": [
       "   distancia unidade_tempo  tempo  horas_cst1  horas_cst2 horas_cst3  \\\n",
       "0       14.4       Semanas   19.0        20.0        20.0              \n",
       "\n",
       "  horas_cst4 horas_cst5    preço  \n",
       "0                        12000.0  "
      ]
     },
     "execution_count": 214,
     "metadata": {},
     "output_type": "execute_result"
    }
   ],
   "source": [
    "dataset_2013 = pd.DataFrame(data_2013, columns=labels_2013)\n",
    "dataset_2013.head()"
   ]
  },
  {
   "cell_type": "markdown",
   "metadata": {},
   "source": [
    "# Diretórios"
   ]
  },
  {
   "cell_type": "code",
   "execution_count": 230,
   "metadata": {
    "collapsed": true
   },
   "outputs": [],
   "source": [
    "def walk_file_folder(arquivos,pastas):\n",
    "    \"\"\"\n",
    "    Função que varre 1 nível de arquivos e pastas\n",
    "    \n",
    "    INPUT\n",
    "    - arquivos: lista de arquivos já mapeados\n",
    "    - pastas: pastas a serem varrias\n",
    "    \n",
    "    OUPUT\n",
    "    - arquivos: lista de arquivos já mapeados \n",
    "    - pastasn: pastas varridas no nível analisado\n",
    "    \n",
    "    \"\"\"\n",
    "    pastasn = []    \n",
    "    for pasta in pastas:\n",
    "    # Ler arquivos e pastas do diretório atual\n",
    "        for (dirpath, dirnames, filenames) in walk(pasta):\n",
    "            break\n",
    "\n",
    "    #adicionar aquivos a lista de arquivos a ser lidos\n",
    "        for name in filenames:\n",
    "            arquivos.append(os.path.join(dirpath, name))\n",
    "\n",
    "    \n",
    "    #criar lista de pastas a ser walkiadas    \n",
    "        for pastan in dirnames:\n",
    "            pastasn.append(os.path.join(dirpath, pastan))\n",
    "\n",
    "    return arquivos, pastasn"
   ]
  },
  {
   "cell_type": "code",
   "execution_count": 232,
   "metadata": {
    "collapsed": true
   },
   "outputs": [],
   "source": [
    "def walk_todas_pastas():\n",
    "    \"\"\"\n",
    "    Função de iteração da funçao walk_file_folder. Roda a função em todos os níveis de pastas.\n",
    "    \n",
    "    INPUT: não possui\n",
    "    \n",
    "    OUTPUT: \n",
    "    - arquivos: lista de arquivos já mapeados \n",
    "    \"\"\"\n",
    "\n",
    "    pastas = ['.']\n",
    "    arquivos = []\n",
    "    count = 1\n",
    "\n",
    "    while pastas != []:\n",
    "        pastas = walk_file_folder(arquivos,pastas)[1]\n",
    "        \n",
    "    return arquivos\n",
    "\n"
   ]
  },
  {
   "cell_type": "code",
   "execution_count": 233,
   "metadata": {},
   "outputs": [
    {
     "data": {
      "text/plain": [
       "['.\\\\data',\n",
       " '.\\\\data.pub',\n",
       " '.\\\\Git_instruções.txt',\n",
       " '.\\\\members_dataset.xlsx',\n",
       " '.\\\\Precificacao.ipynb',\n",
       " '.\\\\Precificação - Pedrada Validada (1).xlsx',\n",
       " '.\\\\Precificação Churrasco.xlsx',\n",
       " '.\\\\Precificação Maçã(2).xlsx',\n",
       " '.\\\\Project_members.ipynb',\n",
       " '.\\\\README.md',\n",
       " '.\\\\.git\\\\COMMIT_EDITMSG',\n",
       " '.\\\\.git\\\\config',\n",
       " '.\\\\.git\\\\description',\n",
       " '.\\\\.git\\\\FETCH_HEAD',\n",
       " '.\\\\.git\\\\HEAD',\n",
       " '.\\\\.git\\\\index',\n",
       " '.\\\\.git\\\\ORIG_HEAD',\n",
       " '.\\\\.git\\\\packed-refs',\n",
       " '.\\\\.ipynb_checkpoints\\\\Precificacao-checkpoint.ipynb',\n",
       " '.\\\\.ipynb_checkpoints\\\\Precificacao_2015-checkpoint.ipynb',\n",
       " '.\\\\.ipynb_checkpoints\\\\Project_members-checkpoint.ipynb',\n",
       " '.\\\\.git\\\\hooks\\\\applypatch-msg.sample',\n",
       " '.\\\\.git\\\\hooks\\\\commit-msg.sample',\n",
       " '.\\\\.git\\\\hooks\\\\fsmonitor-watchman.sample',\n",
       " '.\\\\.git\\\\hooks\\\\post-update.sample',\n",
       " '.\\\\.git\\\\hooks\\\\pre-applypatch.sample',\n",
       " '.\\\\.git\\\\hooks\\\\pre-commit.sample',\n",
       " '.\\\\.git\\\\hooks\\\\pre-push.sample',\n",
       " '.\\\\.git\\\\hooks\\\\pre-rebase.sample',\n",
       " '.\\\\.git\\\\hooks\\\\pre-receive.sample',\n",
       " '.\\\\.git\\\\hooks\\\\prepare-commit-msg.sample',\n",
       " '.\\\\.git\\\\hooks\\\\update.sample',\n",
       " '.\\\\.git\\\\info\\\\exclude',\n",
       " '.\\\\.git\\\\logs\\\\HEAD',\n",
       " '.\\\\.git\\\\objects\\\\04\\\\183f0121f723676c517c3064a970dae166e9ee',\n",
       " '.\\\\.git\\\\objects\\\\08\\\\ee678d0f4bcc84a00e995c589b3c7c8069fd8e',\n",
       " '.\\\\.git\\\\objects\\\\09\\\\7360911d95e9eaf0ade2773ecf79d68826b45f',\n",
       " '.\\\\.git\\\\objects\\\\16\\\\c7f3cbe50aee45d5cff42148edc24013ae4f0f',\n",
       " '.\\\\.git\\\\objects\\\\16\\\\cfba93423c2291832a5f85ccf89e7f73eeeb66',\n",
       " '.\\\\.git\\\\objects\\\\1c\\\\a69fb4eac33d2dc1626b8f9a27f113c1759c9b',\n",
       " '.\\\\.git\\\\objects\\\\31\\\\46cb70ae787f563e660da091c6f9b267fdce87',\n",
       " '.\\\\.git\\\\objects\\\\40\\\\9aa0fcb7e52db9b702f34b18df0d727973f471',\n",
       " '.\\\\.git\\\\objects\\\\4f\\\\aa91e9da5c4b61f6e7b6516e7c6e90b1caecb4',\n",
       " '.\\\\.git\\\\objects\\\\55\\\\053f3398f13e3f52cb064b3b0366907365487a',\n",
       " '.\\\\.git\\\\objects\\\\69\\\\c574b41d076b21ca1bde936be89c1b25b26e76',\n",
       " '.\\\\.git\\\\objects\\\\6e\\\\b104bd13e3f2c4a1a9694e42a830c6f9d7252c',\n",
       " '.\\\\.git\\\\objects\\\\81\\\\554b0f0baf825a518a943e77bb1142f0c3d19c',\n",
       " '.\\\\.git\\\\objects\\\\aa\\\\9639297f968681da9cc2e55baca5e7fd9545b6',\n",
       " '.\\\\.git\\\\objects\\\\b0\\\\4989d514c7642b66ba2e5c46b713c83cb96fbd',\n",
       " '.\\\\.git\\\\objects\\\\b4\\\\5daa051d7c0465bb340aee2224f4e9718a5a1b',\n",
       " '.\\\\.git\\\\objects\\\\c5\\\\a44e6851401636683e8ef6c13c56d04a6fafee',\n",
       " '.\\\\.git\\\\objects\\\\cb\\\\a0ca19d500277f7da0135870508525694c0d15',\n",
       " '.\\\\.git\\\\objects\\\\db\\\\24d22fd6cdc7321b0c942659503d08959e95f0',\n",
       " '.\\\\.git\\\\objects\\\\e4\\\\19b94cf18a52b253a89f971908625320f5bf15',\n",
       " '.\\\\.git\\\\objects\\\\e6\\\\5e9a606408ea0f7d05c0f54b2b9ab0e89f2b47',\n",
       " '.\\\\.git\\\\objects\\\\ee\\\\1b3bba84eae854ae9899378d2d8b3d050d40dc',\n",
       " '.\\\\.git\\\\objects\\\\f1\\\\5d165d3fbaf821e1b1820203f1877ee8bc9280',\n",
       " '.\\\\.git\\\\objects\\\\pack\\\\pack-147c3be9bb40d41bb0b826b6771770873bc24bb8.idx',\n",
       " '.\\\\.git\\\\objects\\\\pack\\\\pack-147c3be9bb40d41bb0b826b6771770873bc24bb8.pack',\n",
       " '.\\\\.git\\\\refs\\\\heads\\\\master',\n",
       " '.\\\\.git\\\\logs\\\\refs\\\\heads\\\\master',\n",
       " '.\\\\.git\\\\refs\\\\remotes\\\\origin\\\\HEAD',\n",
       " '.\\\\.git\\\\refs\\\\remotes\\\\origin\\\\master',\n",
       " '.\\\\.git\\\\logs\\\\refs\\\\remotes\\\\origin\\\\HEAD',\n",
       " '.\\\\.git\\\\logs\\\\refs\\\\remotes\\\\origin\\\\master']"
      ]
     },
     "execution_count": 233,
     "metadata": {},
     "output_type": "execute_result"
    }
   ],
   "source": [
    "walk_todas_pastas()"
   ]
  },
  {
   "cell_type": "code",
   "execution_count": null,
   "metadata": {
    "collapsed": true
   },
   "outputs": [],
   "source": []
  }
 ],
 "metadata": {
  "kernelspec": {
   "display_name": "Python 3",
   "language": "python",
   "name": "python3"
  },
  "language_info": {
   "codemirror_mode": {
    "name": "ipython",
    "version": 3
   },
   "file_extension": ".py",
   "mimetype": "text/x-python",
   "name": "python",
   "nbconvert_exporter": "python",
   "pygments_lexer": "ipython3",
   "version": "3.5.2"
  }
 },
 "nbformat": 4,
 "nbformat_minor": 2
}
